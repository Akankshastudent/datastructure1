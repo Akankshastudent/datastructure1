{
  "nbformat": 4,
  "nbformat_minor": 0,
  "metadata": {
    "colab": {
      "provenance": []
    },
    "kernelspec": {
      "name": "python3",
      "display_name": "Python 3"
    },
    "language_info": {
      "name": "python"
    }
  },
  "cells": [
    {
      "cell_type": "markdown",
      "source": [
        "# What are data structures, and why are they important\n",
        "Data is organized in a sequebtial manner,the way of organising and storing the data is known as data stucture.\n",
        "#why it is important\n",
        "with the help of data the data will access and manupulating efficiently becouse data have no used if you dont access and manupulate it properly becouse this is the way you stored the data.\n"
      ],
      "metadata": {
        "id": "HGtOJ9MV6AOX"
      }
    },
    {
      "cell_type": "markdown",
      "source": [
        "#Explain the difference between mutable and immutable data types with examples\n",
        "mutable\n",
        "  in this data types the veriables can be change after the running of code or after the compilation of code or block.it is also called as item assingment.\n",
        "\n",
        "  or another defination is,\n",
        "  object/container whose state or value can be changed after they are created are called as mutable data types.\n",
        "\n",
        "\n",
        "immutable\n",
        "   in this data type the variable cannot be change after the running of code or after the compilation of code or block.\n",
        "\n",
        "   or the second defination is,\n",
        "  object/container whose state or value cannot be changed after they are created are called as mutable data types.\n",
        "\n",
        "  below given the example of mutable and immutable data type\n",
        "\n",
        "\n",
        "\n"
      ],
      "metadata": {
        "id": "Uu5Ne4TJ7SHt"
      }
    },
    {
      "cell_type": "code",
      "source": [
        "#mutable data type ...>>list and dictionary are mutable here is the example of list\n",
        "empty=[\"apple\",\"mango\",\"banana\",\"orange\",]\n",
        "empty.append(\"gava\")\n",
        "print(empty)\n",
        "empty.remove(\"gava\")\n",
        "print(empty)\n",
        "empty[1]=\"papaya\"\n",
        "print(empty)"
      ],
      "metadata": {
        "colab": {
          "base_uri": "https://localhost:8080/"
        },
        "id": "tcYiFAW6B7Ta",
        "outputId": "628207df-e136-473e-c967-76beff610226"
      },
      "execution_count": 17,
      "outputs": [
        {
          "output_type": "stream",
          "name": "stdout",
          "text": [
            "['apple', 'mango', 'banana', 'orange', 'gava']\n",
            "['apple', 'mango', 'banana', 'orange']\n",
            "['apple', 'papaya', 'banana', 'orange']\n"
          ]
        }
      ]
    },
    {
      "cell_type": "code",
      "source": [
        "#immutable data type....>>tuple and string here is the example of tuple\n",
        "youtube=(\"drama\",\"movies\",\"cartoons\",\"songs\")\n",
        "youtube.append(\"advertisement\")\n",
        "print(youtube)\n",
        "youtube[1]=\"mobile\"\n",
        "print(youtube)\n",
        "\n",
        "this will not run coz found the error that tuple is immutable data type\n"
      ],
      "metadata": {
        "colab": {
          "base_uri": "https://localhost:8080/",
          "height": 211
        },
        "id": "KgVB6rrcDKfY",
        "outputId": "d047b841-5712-4de6-d935-696809ab5bda"
      },
      "execution_count": 18,
      "outputs": [
        {
          "output_type": "error",
          "ename": "AttributeError",
          "evalue": "'tuple' object has no attribute 'append'",
          "traceback": [
            "\u001b[0;31m---------------------------------------------------------------------------\u001b[0m",
            "\u001b[0;31mAttributeError\u001b[0m                            Traceback (most recent call last)",
            "\u001b[0;32m<ipython-input-18-074ece44630d>\u001b[0m in \u001b[0;36m<cell line: 3>\u001b[0;34m()\u001b[0m\n\u001b[1;32m      1\u001b[0m \u001b[0;31m#immutable data type....>>tuple and string here is the example of tuple\u001b[0m\u001b[0;34m\u001b[0m\u001b[0;34m\u001b[0m\u001b[0m\n\u001b[1;32m      2\u001b[0m \u001b[0myoutube\u001b[0m\u001b[0;34m=\u001b[0m\u001b[0;34m(\u001b[0m\u001b[0;34m\"drama\"\u001b[0m\u001b[0;34m,\u001b[0m\u001b[0;34m\"movies\"\u001b[0m\u001b[0;34m,\u001b[0m\u001b[0;34m\"cartoons\"\u001b[0m\u001b[0;34m,\u001b[0m\u001b[0;34m\"songs\"\u001b[0m\u001b[0;34m)\u001b[0m\u001b[0;34m\u001b[0m\u001b[0;34m\u001b[0m\u001b[0m\n\u001b[0;32m----> 3\u001b[0;31m \u001b[0myoutube\u001b[0m\u001b[0;34m.\u001b[0m\u001b[0mappend\u001b[0m\u001b[0;34m(\u001b[0m\u001b[0;34m\"advertisement\"\u001b[0m\u001b[0;34m)\u001b[0m\u001b[0;34m\u001b[0m\u001b[0;34m\u001b[0m\u001b[0m\n\u001b[0m\u001b[1;32m      4\u001b[0m \u001b[0mprint\u001b[0m\u001b[0;34m(\u001b[0m\u001b[0myoutube\u001b[0m\u001b[0;34m)\u001b[0m\u001b[0;34m\u001b[0m\u001b[0;34m\u001b[0m\u001b[0m\n\u001b[1;32m      5\u001b[0m \u001b[0myoutube\u001b[0m\u001b[0;34m[\u001b[0m\u001b[0;36m1\u001b[0m\u001b[0;34m]\u001b[0m\u001b[0;34m=\u001b[0m\u001b[0;34m\"mobile\"\u001b[0m\u001b[0;34m\u001b[0m\u001b[0;34m\u001b[0m\u001b[0m\n",
            "\u001b[0;31mAttributeError\u001b[0m: 'tuple' object has no attribute 'append'"
          ]
        }
      ]
    },
    {
      "cell_type": "markdown",
      "source": [
        "#What are the main differences between lists and tuples in Python\n",
        "first masured difference between list are\n",
        " tuple are tuple is immutable\n",
        "  while lists are mutable\n",
        "\n",
        "tuple write in paranthesis ()\n",
        "list write in square brackets []\n",
        "\n"
      ],
      "metadata": {
        "id": "Mu_DHhcXFLFz"
      }
    },
    {
      "cell_type": "markdown",
      "source": [
        "#Describe how dictionaries store data\n",
        "Dictionaries are used to store data values in key:value pairs. A dictionary is a collection which is ordered.\n",
        "dictionary can be changeable and do not allow duplicates.\n"
      ],
      "metadata": {
        "id": "ypVOifuGGskS"
      }
    },
    {
      "cell_type": "markdown",
      "source": [
        "# Why might you use a set instead of a list in Python\n",
        "becouse sets cannot be have same data,or dublicate elements in same set.\n",
        "\n",
        "some important type data such as company id,adhar card,bank account number\n",
        "which cannot be same....if they will same it will not get in output."
      ],
      "metadata": {
        "id": "vyhed7a7QCk3"
      }
    },
    {
      "cell_type": "markdown",
      "source": [
        "# What is a string in Python, and how is it different from a list\n",
        "string is a variable or number or integer which is written in single quate or duble quate \"\" , ''\n",
        "string itself is data type.\n",
        "\n",
        "list is written in square brackets []\n",
        "list have all data types in one list ex int,str,float,bool,etc"
      ],
      "metadata": {
        "id": "1zx2nlKvRLZT"
      }
    },
    {
      "cell_type": "markdown",
      "source": [
        " # How do tuples ensure data integrity in Python\n",
        " Tuples are immutable to ensure that their contents remain constant throughout their lifecycle.\n",
        " you cannot change the element,veriable after you enter the one value.\n",
        " therefore it is safe and gives integrity in python"
      ],
      "metadata": {
        "id": "8tmLR09uScOE"
      }
    },
    {
      "cell_type": "markdown",
      "source": [
        "#What is a hash table, and how does it relate to dictionaries in Python\n",
        "A hash table is a data structure that stores key-value pairs and uses a hash function to quickly find values based on their keys.\n",
        "\n",
        "In Python, a dictionary (dict) is a built-in data type that works like a hash table, allowing fast access to values by their keys. It is efficient for lookups, insertions, and deletions."
      ],
      "metadata": {
        "id": "7XrcbKX4S6Ic"
      }
    },
    {
      "cell_type": "markdown",
      "source": [
        "# Can lists contain different data types in Python\n",
        "yes list do contain different data types in python.\n",
        "A list can be have integers, strings, floats, objects, or the other lists, all in the same list.\n",
        "\n",
        "For example:-\n",
        "my_list = [1, \"hello\", 3.14, [2, 4, 6]]"
      ],
      "metadata": {
        "id": "SbWx0DOeTdXd"
      }
    },
    {
      "cell_type": "markdown",
      "source": [
        "#Explain why strings are immutable in Python\n",
        "for the efficincy of code or data,becouse string is widely used in python\n",
        "Strings in Python are immutable to improve performance, ensure thread safety, and maintain consistent behavior. When you modify a string, a always new string is created instead of changing the original."
      ],
      "metadata": {
        "id": "JPNGEM0-UFLk"
      }
    },
    {
      "cell_type": "markdown",
      "source": [
        " # What advantages do dictionaries offer over lists for certain tasks\n",
        " dictionaries does not have dublicate vlaues or element\n",
        " but the list have same.\n",
        " key in dictionaries is unique\n",
        " data strored in key value which is always easy to accesable and where list have integers storage values"
      ],
      "metadata": {
        "id": "za4xhVoZVTKk"
      }
    },
    {
      "cell_type": "markdown",
      "source": [
        "# Describe a scenario where using a tuple would be preferable over a list\n",
        "Using a tuple is preferable over a list when you need an immutable sequence of items.\n",
        "\n",
        "It Fixed Data When storing coordinates (x, y), you do not want these to change.\n",
        "Dictionary Keys: Tuples can be used as dictionary keys because they are immutable, whereas lists cannot.\n",
        "Function Returns: When a function returns multiple values that not be modified, tuples are a good choice.\n",
        "Tuples are generally preferred when the data should remain constant.\n",
        "use case=student id,email etc."
      ],
      "metadata": {
        "id": "FG9l9fY8WU9m"
      }
    },
    {
      "cell_type": "markdown",
      "source": [
        "#How do sets handle duplicate values in Python\n",
        "sets does not print the duplicate values at the time of compilation it gives only one element off that cast,or that type\n",
        "it automatically eliminate that duplicate values.only unique element will stored in sets.\n",
        "\n",
        "ex.{\"akanksha\",\"akanksha\",1,1,3,3,9,9,9,}\n",
        "\n",
        "it will only give\n",
        "{\"akanksha\",1,3,9}"
      ],
      "metadata": {
        "id": "NJ2Ka5-4XP_R"
      }
    },
    {
      "cell_type": "markdown",
      "source": [
        "# How does the “in” keyword work differently for lists and dictionaries\n",
        "For Lists: it checks if a specific value exists in the list. It performs a linear search, which has a time complexity of O(n)\n",
        "\n",
        " EX...\n",
        "my_list = [1, 2, 3]\n",
        "print(2 in my_list)\n",
        " # Output: True\n",
        "\n",
        "For Dictionaries: in checks if a specific key exists in the dictionary. It uses hash table lookup, which has an average time complexity of O(1).\n",
        "\n",
        "EXX...\n",
        "my_dict = {'a': 1, 'b': 2}\n",
        "print('a' in my_dict)\n",
        " # Output: True"
      ],
      "metadata": {
        "id": "jsIJN58QX680"
      }
    },
    {
      "cell_type": "markdown",
      "source": [
        "# Can you modify the elements of a tuple? Explain why or why not\n",
        "No, you cannot modify the elements of a tuple in Python. This is because tuples are immutable, meaning once they are created, their contents cannot be changed.\n",
        "\n",
        "This make tuple safe,for efficient memmory usage.\n",
        "it will give you erroe when you wanted to modify the element\n"
      ],
      "metadata": {
        "id": "PY3R4V80ZH0P"
      }
    },
    {
      "cell_type": "markdown",
      "source": [
        "# What is a nested dictionary, and give an example of its use case\n",
        "A nested dictionary is a dictionary that contains another dictionary as a value. This structure allows for more complex, hierarchical data storage.\n",
        "\n",
        "this is very useful where we want to organised the data where each key hold other set of key value pair.\n",
        "\n",
        "A nested dictionary can represent a collection of data, such as storing information about students and their courses.\n",
        "\n",
        "students = {\n",
        "    \"maggie\": {\"Math\": 80, \"math\": 85},\n",
        "    \"masala\": {\"Math\": 55, \"math\": 80}\n",
        "}\n",
        "print(students[\"Bob\"][\"Math\"])\n",
        " # Output: 55"
      ],
      "metadata": {
        "id": "I1wrZqVeaBRr"
      }
    },
    {
      "cell_type": "markdown",
      "source": [
        "# Describe the time complexity of accessing elements in a dictionary\n",
        "The time complexity of accessing elements in a dictionary in Python is\n",
        "O(1) on average. This is because dictionaries are implemented using hash tables, allowing for direct indexing via the hash function, which usually provides constant-time access.it srored the key values of veriable."
      ],
      "metadata": {
        "id": "RUXFwCSHceEx"
      }
    },
    {
      "cell_type": "markdown",
      "source": [
        " # In what situations are lists preferred over dictionaries\n",
        " when we want to maintain the order of element,list preserve the oeder of insertion .\n",
        " and when we want the element of their place indexing in number integer follow in list but not in dict.\n",
        " when you do not need unique keys then the list is sutable for code it will give the dublicate element access but dict does not allow the duplicate element it has gave specific/unique element every time ."
      ],
      "metadata": {
        "id": "ZZcui7iOdJJS"
      }
    },
    {
      "cell_type": "markdown",
      "source": [],
      "metadata": {
        "id": "EobQrxoDeVur"
      }
    },
    {
      "cell_type": "markdown",
      "source": [
        "# Why are dictionaries considered unordered, and how does that affect data retrieval\n",
        "Dictionaries are considered unordered because they store data based on key hashes, not in a sequence.\n",
        "they maintain insertion order, but the primary focus is still on fast key-based retrieval, not order. You can't access items by index, only by key.\n",
        "\n",
        "Fast Lookups: Retrieval by key is fast, with an average time complexity of\n",
        "O(1), regardless of order.\n",
        "No Indexed Access: You can't access items by a numerical index like you can with lists, as dictionaries are key-based."
      ],
      "metadata": {
        "id": "7v_uixiuehqz"
      }
    },
    {
      "cell_type": "markdown",
      "source": [
        "# Explain the difference between a list and a dictionary in terms of data retrieval.\n",
        "data retrival in list is ordered and access in integer .retrival is of index possition\n",
        "\n",
        "my_list = [10, 20, 30]\n",
        "print(my_list[1])\n",
        " # Output: 20\n",
        "\n",
        "in dict data retrival by the key it access in key format\n",
        "my_dict = {\"a\": 10, \"b\": 20}\n",
        "print(my_dict[\"b\"])\n",
        " # Output: 20"
      ],
      "metadata": {
        "id": "ob7poiAnfOwi"
      }
    },
    {
      "cell_type": "markdown",
      "source": [
        "# code form here\n"
      ],
      "metadata": {
        "id": "ALwNajsghKSj"
      }
    },
    {
      "cell_type": "code",
      "source": [
        " # Write a code to create a string with your name and print it\n",
        " name =\"akanksha bhongade\"\n",
        " name"
      ],
      "metadata": {
        "colab": {
          "base_uri": "https://localhost:8080/",
          "height": 35
        },
        "id": "w6t9OsZ_hcWA",
        "outputId": "84d5723d-e242-4452-83c5-847f505cfbd9"
      },
      "execution_count": 1,
      "outputs": [
        {
          "output_type": "execute_result",
          "data": {
            "text/plain": [
              "'akanksha bhongade'"
            ],
            "application/vnd.google.colaboratory.intrinsic+json": {
              "type": "string"
            }
          },
          "metadata": {},
          "execution_count": 1
        }
      ]
    },
    {
      "cell_type": "code",
      "source": [
        "#Write a code to find the length of the string \"Hello World\"\n",
        "new =\"hello world\"\n",
        "new\n",
        "len(new)\n"
      ],
      "metadata": {
        "colab": {
          "base_uri": "https://localhost:8080/"
        },
        "id": "jHD2QLIwhw-V",
        "outputId": "45b2ad6f-0fa8-4a2d-e935-3028da347ec0"
      },
      "execution_count": 5,
      "outputs": [
        {
          "output_type": "execute_result",
          "data": {
            "text/plain": [
              "11"
            ]
          },
          "metadata": {},
          "execution_count": 5
        }
      ]
    },
    {
      "cell_type": "code",
      "source": [
        "# Write a code to slice the first 3 characters from the string \"Python Programming\"\n",
        "student=\"python programming\"\n",
        "student[0:3] #the 3rd number will be minus from the code"
      ],
      "metadata": {
        "colab": {
          "base_uri": "https://localhost:8080/",
          "height": 35
        },
        "id": "1FwuEIQmiNiv",
        "outputId": "e0e6e68d-c021-43f8-b45f-e8db0bd15d69"
      },
      "execution_count": 6,
      "outputs": [
        {
          "output_type": "execute_result",
          "data": {
            "text/plain": [
              "'pyt'"
            ],
            "application/vnd.google.colaboratory.intrinsic+json": {
              "type": "string"
            }
          },
          "metadata": {},
          "execution_count": 6
        }
      ]
    },
    {
      "cell_type": "code",
      "source": [
        "# Write a code to convert the string \"hello\" to uppercase\n",
        "msg=\"hello\"\n",
        "msg.upper()"
      ],
      "metadata": {
        "colab": {
          "base_uri": "https://localhost:8080/",
          "height": 35
        },
        "id": "sGaSPKq_i5s5",
        "outputId": "ec100937-9e0e-41ec-f7d9-10ed6157d606"
      },
      "execution_count": 7,
      "outputs": [
        {
          "output_type": "execute_result",
          "data": {
            "text/plain": [
              "'HELLO'"
            ],
            "application/vnd.google.colaboratory.intrinsic+json": {
              "type": "string"
            }
          },
          "metadata": {},
          "execution_count": 7
        }
      ]
    },
    {
      "cell_type": "code",
      "source": [
        "# Write a code to replace the word \"apple\" with \"orange\" in the string \"I like apple\"\n",
        "fruit=\"i like apple\"\n",
        "print(fruit)\n",
        "fruit.replace(\"apple\",\"orange\")"
      ],
      "metadata": {
        "colab": {
          "base_uri": "https://localhost:8080/",
          "height": 53
        },
        "id": "M1Pud-8sjL6c",
        "outputId": "333dfd09-d161-43de-aed5-92654a5da63c"
      },
      "execution_count": 11,
      "outputs": [
        {
          "output_type": "stream",
          "name": "stdout",
          "text": [
            "i like apple\n"
          ]
        },
        {
          "output_type": "execute_result",
          "data": {
            "text/plain": [
              "'i like orange'"
            ],
            "application/vnd.google.colaboratory.intrinsic+json": {
              "type": "string"
            }
          },
          "metadata": {},
          "execution_count": 11
        }
      ]
    },
    {
      "cell_type": "code",
      "source": [
        "#  Write a code to create a list with numbers 1 to 5 and print it\n",
        "list_num=[1,2,3,4,5]\n",
        "list_num\n"
      ],
      "metadata": {
        "colab": {
          "base_uri": "https://localhost:8080/"
        },
        "id": "LPBL61FxkJHL",
        "outputId": "920393da-0aa8-41ff-91d9-7e8efcb545b6"
      },
      "execution_count": 12,
      "outputs": [
        {
          "output_type": "execute_result",
          "data": {
            "text/plain": [
              "[1, 2, 3, 4, 5]"
            ]
          },
          "metadata": {},
          "execution_count": 12
        }
      ]
    },
    {
      "cell_type": "code",
      "source": [
        "# Write a code to append the number 10 to the list [1, 2, 3, 4]\n",
        "list_num=[1,2,3,4]\n",
        "list_num.append(10)\n",
        "list_num"
      ],
      "metadata": {
        "colab": {
          "base_uri": "https://localhost:8080/"
        },
        "id": "vfE4vSX-khp-",
        "outputId": "89485111-d3f7-47ad-882c-997913836aef"
      },
      "execution_count": 14,
      "outputs": [
        {
          "output_type": "execute_result",
          "data": {
            "text/plain": [
              "[1, 2, 3, 4, 10]"
            ]
          },
          "metadata": {},
          "execution_count": 14
        }
      ]
    },
    {
      "cell_type": "code",
      "source": [
        "# Write a code to remove the number 3 from the list [1, 2, 3, 4, 5]\n",
        "you=[1,2,3,4,5]\n",
        "you.remove(3)\n",
        "you"
      ],
      "metadata": {
        "colab": {
          "base_uri": "https://localhost:8080/"
        },
        "id": "jicu62u8k0CO",
        "outputId": "b6fd1e18-699d-45a5-c8ab-b9e75bd0e828"
      },
      "execution_count": 15,
      "outputs": [
        {
          "output_type": "execute_result",
          "data": {
            "text/plain": [
              "[1, 2, 4, 5]"
            ]
          },
          "metadata": {},
          "execution_count": 15
        }
      ]
    },
    {
      "cell_type": "code",
      "source": [
        "#  Write a code to access the second element in the list ['a', 'b', 'c', 'd']\n",
        "alpha=['a','b','c','d']\n",
        "alpha[1]"
      ],
      "metadata": {
        "colab": {
          "base_uri": "https://localhost:8080/",
          "height": 35
        },
        "id": "YwI-2TTOlHYo",
        "outputId": "3ee25224-ae66-49bb-e391-c4149b2d086f"
      },
      "execution_count": 17,
      "outputs": [
        {
          "output_type": "execute_result",
          "data": {
            "text/plain": [
              "'b'"
            ],
            "application/vnd.google.colaboratory.intrinsic+json": {
              "type": "string"
            }
          },
          "metadata": {},
          "execution_count": 17
        }
      ]
    },
    {
      "cell_type": "code",
      "source": [
        "# Write a code to reverse the list [10, 20, 30, 40, 50].\n",
        "list_num=[10,20,30,40,50]\n",
        "list_num.reverse()\n",
        "list_num\n"
      ],
      "metadata": {
        "colab": {
          "base_uri": "https://localhost:8080/"
        },
        "id": "NKphkPujli3R",
        "outputId": "59706177-7a88-4086-9050-a047ea660bbe"
      },
      "execution_count": 18,
      "outputs": [
        {
          "output_type": "execute_result",
          "data": {
            "text/plain": [
              "[50, 40, 30, 20, 10]"
            ]
          },
          "metadata": {},
          "execution_count": 18
        }
      ]
    },
    {
      "cell_type": "code",
      "source": [
        "# Write a code to create a tuple with the elements 10, 20, 30 and print it.\n",
        "tuple_call=(10,20,30)\n",
        "tuple_call"
      ],
      "metadata": {
        "colab": {
          "base_uri": "https://localhost:8080/"
        },
        "id": "s5rovmGUl5qi",
        "outputId": "de5c6a3e-8ae5-4c1d-e1b6-0d2734e0f8d2"
      },
      "execution_count": 20,
      "outputs": [
        {
          "output_type": "execute_result",
          "data": {
            "text/plain": [
              "tuple"
            ]
          },
          "metadata": {},
          "execution_count": 20
        }
      ]
    },
    {
      "cell_type": "code",
      "source": [
        "#Write a code to access the first element of the tuple ('apple', 'banana', 'cherry').\n",
        "fruit=(\"apple\",\"banana\",\"cherry\")\n",
        "fruit[0]"
      ],
      "metadata": {
        "colab": {
          "base_uri": "https://localhost:8080/",
          "height": 35
        },
        "id": "phULX9NDmMV-",
        "outputId": "5040636a-4508-4f24-afa0-a2336e502b38"
      },
      "execution_count": 23,
      "outputs": [
        {
          "output_type": "execute_result",
          "data": {
            "text/plain": [
              "'apple'"
            ],
            "application/vnd.google.colaboratory.intrinsic+json": {
              "type": "string"
            }
          },
          "metadata": {},
          "execution_count": 23
        }
      ]
    },
    {
      "cell_type": "code",
      "source": [
        "#  Write a code to count how many times the number 2 appears in the tuple (1, 2, 3, 2, 4, 2).\n",
        "novel=(1,2,3,2,4,2)\n",
        "novel.count(2)"
      ],
      "metadata": {
        "colab": {
          "base_uri": "https://localhost:8080/"
        },
        "id": "2qjmA-5Bmrkz",
        "outputId": "f3e6aadb-ead4-468f-cf1c-5ec1113d19fb"
      },
      "execution_count": 24,
      "outputs": [
        {
          "output_type": "execute_result",
          "data": {
            "text/plain": [
              "3"
            ]
          },
          "metadata": {},
          "execution_count": 24
        }
      ]
    },
    {
      "cell_type": "code",
      "source": [
        "#  Write a code to find the index of the element \"cat\" in the tuple ('dog', 'cat', 'rabbit').\n",
        "animals=(\"dog\",\"cat\",\"rabbit\")\n",
        "animals.index(\"cat\")"
      ],
      "metadata": {
        "colab": {
          "base_uri": "https://localhost:8080/"
        },
        "id": "vAnPsxnlxSE9",
        "outputId": "2a9054b7-2f6b-4b3f-e18f-2efdd202ba71"
      },
      "execution_count": 25,
      "outputs": [
        {
          "output_type": "execute_result",
          "data": {
            "text/plain": [
              "1"
            ]
          },
          "metadata": {},
          "execution_count": 25
        }
      ]
    },
    {
      "cell_type": "code",
      "source": [
        "#  Write a code to check if the element \"banana\" is in the tuple ('apple', 'orange', 'banana').\n",
        "fruits=(\"apple\",\"orange\",\"banana\")\n",
        "if \"banana\" in fruits:\n",
        "    print(\"Banana is in the tuple.\")\n",
        "else:\n",
        "    print(\"Banana is not in the tuple.\")\n",
        "\n",
        ""
      ],
      "metadata": {
        "colab": {
          "base_uri": "https://localhost:8080/"
        },
        "id": "Quh3ZXf9xvty",
        "outputId": "4d928244-df64-4ba3-9694-926533f71fdd"
      },
      "execution_count": 33,
      "outputs": [
        {
          "output_type": "stream",
          "name": "stdout",
          "text": [
            "Banana is in the tuple.\n"
          ]
        }
      ]
    },
    {
      "cell_type": "code",
      "source": [
        "#  Write a code to create a set with the elements 1, 2, 3, 4, 5 and print it.\n",
        "set_my={1,2,3,4,5}\n",
        "set_my\n"
      ],
      "metadata": {
        "colab": {
          "base_uri": "https://localhost:8080/"
        },
        "id": "i-vkOi86zeb9",
        "outputId": "8d12474d-5670-460c-ee11-7ae1b5fe8594"
      },
      "execution_count": 34,
      "outputs": [
        {
          "output_type": "execute_result",
          "data": {
            "text/plain": [
              "{1, 2, 3, 4, 5}"
            ]
          },
          "metadata": {},
          "execution_count": 34
        }
      ]
    },
    {
      "cell_type": "code",
      "source": [
        "# Write a code to add the element 6 to the set {1, 2, 3, 4}.\n",
        "set_num={1,2,3,4}\n",
        "#set_num.add(6)\n",
        "set_num|={6} #union type to add element in set\n",
        "set_num"
      ],
      "metadata": {
        "colab": {
          "base_uri": "https://localhost:8080/"
        },
        "id": "YD_Cqb0Lz0Q3",
        "outputId": "47c95c5f-4fb9-4daf-cef1-f53d634bd5a2"
      },
      "execution_count": 42,
      "outputs": [
        {
          "output_type": "execute_result",
          "data": {
            "text/plain": [
              "{1, 2, 3, 4, 6}"
            ]
          },
          "metadata": {},
          "execution_count": 42
        }
      ]
    },
    {
      "cell_type": "code",
      "source": [
        "#  Write a code to create a tuple with the elements 10, 20, 30 and print it.\n",
        "tuppu=(10,20,30)\n",
        "tuppu\n",
        "#type(tuppu)"
      ],
      "metadata": {
        "colab": {
          "base_uri": "https://localhost:8080/"
        },
        "id": "sbjmE6tL05vK",
        "outputId": "d9404750-2267-4071-f310-3baefacd1cec"
      },
      "execution_count": 46,
      "outputs": [
        {
          "output_type": "execute_result",
          "data": {
            "text/plain": [
              "(10, 20, 30)"
            ]
          },
          "metadata": {},
          "execution_count": 46
        }
      ]
    },
    {
      "cell_type": "code",
      "source": [
        "# Write a code to access the first element of the tuple ('apple', 'banana', 'cherry').\n",
        "fruit=(\"apple\",\"banana\",\"cherry\")\n",
        "fruit[0]"
      ],
      "metadata": {
        "colab": {
          "base_uri": "https://localhost:8080/",
          "height": 35
        },
        "id": "LUDbXpvq1fXO",
        "outputId": "c20c63f3-c7cb-45ab-96eb-f3da8275c4e6"
      },
      "execution_count": 47,
      "outputs": [
        {
          "output_type": "execute_result",
          "data": {
            "text/plain": [
              "'apple'"
            ],
            "application/vnd.google.colaboratory.intrinsic+json": {
              "type": "string"
            }
          },
          "metadata": {},
          "execution_count": 47
        }
      ]
    },
    {
      "cell_type": "markdown",
      "source": [
        "#after this remaining questions are repetative that is why i did not do that because i do it already in this assignment ...please consider sir/mam"
      ],
      "metadata": {
        "id": "vfXxp-1Y2QWJ"
      }
    }
  ]
}